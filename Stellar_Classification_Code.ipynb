{
 "cells": [
  {
   "cell_type": "markdown",
   "id": "376d1001",
   "metadata": {},
   "source": [
    "## Stellar Classification\n",
    "\n",
    "An exploration of a set 100,000 observations of stars, galaxies, and quasars done by the Sloan Digital Sky Survey. The data for this project can be found using the link below:\n",
    "\n",
    "https://www.kaggle.com/datasets/fedesoriano/stellar-classification-dataset-sdss17?resource=download\n",
    "\n"
   ]
  },
  {
   "cell_type": "code",
   "execution_count": 213,
   "id": "7fad4fc3",
   "metadata": {},
   "outputs": [],
   "source": [
    "#Requirements\n",
    "\n",
    "import pandas as pd\n",
    "import matplotlib.pyplot as plt\n",
    " \n"
   ]
  },
  {
   "cell_type": "markdown",
   "id": "6c13c3f7",
   "metadata": {},
   "source": [
    "## Key Definitions\n",
    "\n",
    "Below is a dictionary containing brief definitions of each stellar characteristic. While navigating this code it is possible at any time to call the definition of a characteristic using data_key['desired_characteristic']"
   ]
  },
  {
   "cell_type": "code",
   "execution_count": 214,
   "id": "46edb391",
   "metadata": {},
   "outputs": [],
   "source": [
    "#Creating a dictionary to print each descriptor \n",
    "\n",
    "data_key = {\n",
    "    \"obj_ID\" : \"0bj_ID = object indentifier, the unique value that identifies the object in the image catalog used by the CAS\",\n",
    "    \"alpha\" : \"alpha = Right Ascension angle (at J2000 epoch)\",\n",
    "    \"delta\" : \"delta = Declination angle (at J2000 epoch)\",\n",
    "    \"u\" : \"u = Ultraviolet filter in the photometric system\",\n",
    "    \"g\" : \"g = Green filter in the photometric system\",\n",
    "    \"r\" : \"r = Red filter in the photometric system\",\n",
    "    \"i\" : \"i = Near Infrared filter in the photometric system\",\n",
    "    \"z\" : \"z = Infrared filter in the photometric system\",\n",
    "    \"run_ID\" : \"run_ID = Run Number used to identify the specific scan\",\n",
    "    \"rereun_ID\" : \"rerun_Id = Rerun Number to specify how the image was processed\",\n",
    "    \"cam_col\" : \"cam_col = Camera column to identify the scanline within the run\",\n",
    "    \"field_ID\" : \"field_ID = Field number to identify each field\",\n",
    "    \"spec_obj_ID\" : \"spec_obj_ID = Unique ID used for optical spectroscopic objects\",\n",
    "    \"class\" : \"class = object class, (galaxy, star, or quasar)\",\n",
    "    \"redshift\" : \"redshift = redshift value based on the increase in wavelength\",\n",
    "}\n"
   ]
  },
  {
   "cell_type": "code",
   "execution_count": 215,
   "id": "b60be804",
   "metadata": {},
   "outputs": [
    {
     "data": {
      "text/html": [
       "<div>\n",
       "<style scoped>\n",
       "    .dataframe tbody tr th:only-of-type {\n",
       "        vertical-align: middle;\n",
       "    }\n",
       "\n",
       "    .dataframe tbody tr th {\n",
       "        vertical-align: top;\n",
       "    }\n",
       "\n",
       "    .dataframe thead th {\n",
       "        text-align: right;\n",
       "    }\n",
       "</style>\n",
       "<table border=\"1\" class=\"dataframe\">\n",
       "  <thead>\n",
       "    <tr style=\"text-align: right;\">\n",
       "      <th></th>\n",
       "      <th>obj_ID</th>\n",
       "      <th>alpha</th>\n",
       "      <th>delta</th>\n",
       "      <th>u</th>\n",
       "      <th>g</th>\n",
       "      <th>r</th>\n",
       "      <th>i</th>\n",
       "      <th>z</th>\n",
       "      <th>run_ID</th>\n",
       "      <th>rerun_ID</th>\n",
       "      <th>cam_col</th>\n",
       "      <th>field_ID</th>\n",
       "      <th>spec_obj_ID</th>\n",
       "      <th>class</th>\n",
       "      <th>redshift</th>\n",
       "      <th>plate</th>\n",
       "      <th>MJD</th>\n",
       "      <th>fiber_ID</th>\n",
       "    </tr>\n",
       "  </thead>\n",
       "  <tbody>\n",
       "    <tr>\n",
       "      <th>0</th>\n",
       "      <td>1.237661e+18</td>\n",
       "      <td>135.689107</td>\n",
       "      <td>32.494632</td>\n",
       "      <td>23.87882</td>\n",
       "      <td>22.27530</td>\n",
       "      <td>20.39501</td>\n",
       "      <td>19.16573</td>\n",
       "      <td>18.79371</td>\n",
       "      <td>3606</td>\n",
       "      <td>301</td>\n",
       "      <td>2</td>\n",
       "      <td>79</td>\n",
       "      <td>6.543777e+18</td>\n",
       "      <td>GALAXY</td>\n",
       "      <td>0.634794</td>\n",
       "      <td>5812</td>\n",
       "      <td>56354</td>\n",
       "      <td>171</td>\n",
       "    </tr>\n",
       "    <tr>\n",
       "      <th>1</th>\n",
       "      <td>1.237665e+18</td>\n",
       "      <td>144.826101</td>\n",
       "      <td>31.274185</td>\n",
       "      <td>24.77759</td>\n",
       "      <td>22.83188</td>\n",
       "      <td>22.58444</td>\n",
       "      <td>21.16812</td>\n",
       "      <td>21.61427</td>\n",
       "      <td>4518</td>\n",
       "      <td>301</td>\n",
       "      <td>5</td>\n",
       "      <td>119</td>\n",
       "      <td>1.176014e+19</td>\n",
       "      <td>GALAXY</td>\n",
       "      <td>0.779136</td>\n",
       "      <td>10445</td>\n",
       "      <td>58158</td>\n",
       "      <td>427</td>\n",
       "    </tr>\n",
       "    <tr>\n",
       "      <th>2</th>\n",
       "      <td>1.237661e+18</td>\n",
       "      <td>142.188790</td>\n",
       "      <td>35.582444</td>\n",
       "      <td>25.26307</td>\n",
       "      <td>22.66389</td>\n",
       "      <td>20.60976</td>\n",
       "      <td>19.34857</td>\n",
       "      <td>18.94827</td>\n",
       "      <td>3606</td>\n",
       "      <td>301</td>\n",
       "      <td>2</td>\n",
       "      <td>120</td>\n",
       "      <td>5.152200e+18</td>\n",
       "      <td>GALAXY</td>\n",
       "      <td>0.644195</td>\n",
       "      <td>4576</td>\n",
       "      <td>55592</td>\n",
       "      <td>299</td>\n",
       "    </tr>\n",
       "    <tr>\n",
       "      <th>3</th>\n",
       "      <td>1.237663e+18</td>\n",
       "      <td>338.741038</td>\n",
       "      <td>-0.402828</td>\n",
       "      <td>22.13682</td>\n",
       "      <td>23.77656</td>\n",
       "      <td>21.61162</td>\n",
       "      <td>20.50454</td>\n",
       "      <td>19.25010</td>\n",
       "      <td>4192</td>\n",
       "      <td>301</td>\n",
       "      <td>3</td>\n",
       "      <td>214</td>\n",
       "      <td>1.030107e+19</td>\n",
       "      <td>GALAXY</td>\n",
       "      <td>0.932346</td>\n",
       "      <td>9149</td>\n",
       "      <td>58039</td>\n",
       "      <td>775</td>\n",
       "    </tr>\n",
       "    <tr>\n",
       "      <th>4</th>\n",
       "      <td>1.237680e+18</td>\n",
       "      <td>345.282593</td>\n",
       "      <td>21.183866</td>\n",
       "      <td>19.43718</td>\n",
       "      <td>17.58028</td>\n",
       "      <td>16.49747</td>\n",
       "      <td>15.97711</td>\n",
       "      <td>15.54461</td>\n",
       "      <td>8102</td>\n",
       "      <td>301</td>\n",
       "      <td>3</td>\n",
       "      <td>137</td>\n",
       "      <td>6.891865e+18</td>\n",
       "      <td>GALAXY</td>\n",
       "      <td>0.116123</td>\n",
       "      <td>6121</td>\n",
       "      <td>56187</td>\n",
       "      <td>842</td>\n",
       "    </tr>\n",
       "    <tr>\n",
       "      <th>5</th>\n",
       "      <td>1.237680e+18</td>\n",
       "      <td>340.995121</td>\n",
       "      <td>20.589476</td>\n",
       "      <td>23.48827</td>\n",
       "      <td>23.33776</td>\n",
       "      <td>21.32195</td>\n",
       "      <td>20.25615</td>\n",
       "      <td>19.54544</td>\n",
       "      <td>8102</td>\n",
       "      <td>301</td>\n",
       "      <td>3</td>\n",
       "      <td>110</td>\n",
       "      <td>5.658977e+18</td>\n",
       "      <td>QSO</td>\n",
       "      <td>1.424659</td>\n",
       "      <td>5026</td>\n",
       "      <td>55855</td>\n",
       "      <td>741</td>\n",
       "    </tr>\n",
       "    <tr>\n",
       "      <th>6</th>\n",
       "      <td>1.237679e+18</td>\n",
       "      <td>23.234926</td>\n",
       "      <td>11.418188</td>\n",
       "      <td>21.46973</td>\n",
       "      <td>21.17624</td>\n",
       "      <td>20.92829</td>\n",
       "      <td>20.60826</td>\n",
       "      <td>20.42573</td>\n",
       "      <td>7773</td>\n",
       "      <td>301</td>\n",
       "      <td>2</td>\n",
       "      <td>462</td>\n",
       "      <td>1.246262e+19</td>\n",
       "      <td>QSO</td>\n",
       "      <td>0.586455</td>\n",
       "      <td>11069</td>\n",
       "      <td>58456</td>\n",
       "      <td>113</td>\n",
       "    </tr>\n",
       "    <tr>\n",
       "      <th>7</th>\n",
       "      <td>1.237679e+18</td>\n",
       "      <td>5.433176</td>\n",
       "      <td>12.065186</td>\n",
       "      <td>22.24979</td>\n",
       "      <td>22.02172</td>\n",
       "      <td>20.34126</td>\n",
       "      <td>19.48794</td>\n",
       "      <td>18.84999</td>\n",
       "      <td>7773</td>\n",
       "      <td>301</td>\n",
       "      <td>2</td>\n",
       "      <td>346</td>\n",
       "      <td>6.961443e+18</td>\n",
       "      <td>GALAXY</td>\n",
       "      <td>0.477009</td>\n",
       "      <td>6183</td>\n",
       "      <td>56210</td>\n",
       "      <td>15</td>\n",
       "    </tr>\n",
       "    <tr>\n",
       "      <th>8</th>\n",
       "      <td>1.237661e+18</td>\n",
       "      <td>200.290475</td>\n",
       "      <td>47.199402</td>\n",
       "      <td>24.40286</td>\n",
       "      <td>22.35669</td>\n",
       "      <td>20.61032</td>\n",
       "      <td>19.46490</td>\n",
       "      <td>18.95852</td>\n",
       "      <td>3716</td>\n",
       "      <td>301</td>\n",
       "      <td>5</td>\n",
       "      <td>108</td>\n",
       "      <td>7.459285e+18</td>\n",
       "      <td>GALAXY</td>\n",
       "      <td>0.660012</td>\n",
       "      <td>6625</td>\n",
       "      <td>56386</td>\n",
       "      <td>719</td>\n",
       "    </tr>\n",
       "    <tr>\n",
       "      <th>9</th>\n",
       "      <td>1.237671e+18</td>\n",
       "      <td>39.149691</td>\n",
       "      <td>28.102842</td>\n",
       "      <td>21.74669</td>\n",
       "      <td>20.03493</td>\n",
       "      <td>19.17553</td>\n",
       "      <td>18.81823</td>\n",
       "      <td>18.65422</td>\n",
       "      <td>5934</td>\n",
       "      <td>301</td>\n",
       "      <td>4</td>\n",
       "      <td>122</td>\n",
       "      <td>2.751763e+18</td>\n",
       "      <td>STAR</td>\n",
       "      <td>-0.000008</td>\n",
       "      <td>2444</td>\n",
       "      <td>54082</td>\n",
       "      <td>232</td>\n",
       "    </tr>\n",
       "  </tbody>\n",
       "</table>\n",
       "</div>"
      ],
      "text/plain": [
       "         obj_ID       alpha      delta         u         g         r  \\\n",
       "0  1.237661e+18  135.689107  32.494632  23.87882  22.27530  20.39501   \n",
       "1  1.237665e+18  144.826101  31.274185  24.77759  22.83188  22.58444   \n",
       "2  1.237661e+18  142.188790  35.582444  25.26307  22.66389  20.60976   \n",
       "3  1.237663e+18  338.741038  -0.402828  22.13682  23.77656  21.61162   \n",
       "4  1.237680e+18  345.282593  21.183866  19.43718  17.58028  16.49747   \n",
       "5  1.237680e+18  340.995121  20.589476  23.48827  23.33776  21.32195   \n",
       "6  1.237679e+18   23.234926  11.418188  21.46973  21.17624  20.92829   \n",
       "7  1.237679e+18    5.433176  12.065186  22.24979  22.02172  20.34126   \n",
       "8  1.237661e+18  200.290475  47.199402  24.40286  22.35669  20.61032   \n",
       "9  1.237671e+18   39.149691  28.102842  21.74669  20.03493  19.17553   \n",
       "\n",
       "          i         z  run_ID  rerun_ID  cam_col  field_ID   spec_obj_ID  \\\n",
       "0  19.16573  18.79371    3606       301        2        79  6.543777e+18   \n",
       "1  21.16812  21.61427    4518       301        5       119  1.176014e+19   \n",
       "2  19.34857  18.94827    3606       301        2       120  5.152200e+18   \n",
       "3  20.50454  19.25010    4192       301        3       214  1.030107e+19   \n",
       "4  15.97711  15.54461    8102       301        3       137  6.891865e+18   \n",
       "5  20.25615  19.54544    8102       301        3       110  5.658977e+18   \n",
       "6  20.60826  20.42573    7773       301        2       462  1.246262e+19   \n",
       "7  19.48794  18.84999    7773       301        2       346  6.961443e+18   \n",
       "8  19.46490  18.95852    3716       301        5       108  7.459285e+18   \n",
       "9  18.81823  18.65422    5934       301        4       122  2.751763e+18   \n",
       "\n",
       "    class  redshift  plate    MJD  fiber_ID  \n",
       "0  GALAXY  0.634794   5812  56354       171  \n",
       "1  GALAXY  0.779136  10445  58158       427  \n",
       "2  GALAXY  0.644195   4576  55592       299  \n",
       "3  GALAXY  0.932346   9149  58039       775  \n",
       "4  GALAXY  0.116123   6121  56187       842  \n",
       "5     QSO  1.424659   5026  55855       741  \n",
       "6     QSO  0.586455  11069  58456       113  \n",
       "7  GALAXY  0.477009   6183  56210        15  \n",
       "8  GALAXY  0.660012   6625  56386       719  \n",
       "9    STAR -0.000008   2444  54082       232  "
      ]
     },
     "execution_count": 215,
     "metadata": {},
     "output_type": "execute_result"
    }
   ],
   "source": [
    "#Pulling in the data\n",
    "\n",
    "df = pd.read_csv('star_classification_data_original.csv')\n",
    "df.head(10)\n"
   ]
  },
  {
   "cell_type": "code",
   "execution_count": 216,
   "id": "883411b6",
   "metadata": {},
   "outputs": [
    {
     "data": {
      "text/plain": [
       "100000"
      ]
     },
     "execution_count": 216,
     "metadata": {},
     "output_type": "execute_result"
    }
   ],
   "source": [
    "#Using the length function to check that the data set is complete\n",
    "\n",
    "len(df)"
   ]
  },
  {
   "cell_type": "code",
   "execution_count": 217,
   "id": "24b88045",
   "metadata": {},
   "outputs": [
    {
     "data": {
      "text/plain": [
       "['GALAXY', 'QSO', 'STAR']"
      ]
     },
     "execution_count": 217,
     "metadata": {},
     "output_type": "execute_result"
    }
   ],
   "source": [
    "#Using the list function to check that I have all three types of stellar objects represented\n",
    "#QSO means quasar\n",
    "\n",
    "stellar_object = list(df['class'].unique())\n",
    "stellar_object"
   ]
  },
  {
   "cell_type": "code",
   "execution_count": 218,
   "id": "d1ff825a",
   "metadata": {},
   "outputs": [
    {
     "name": "stdout",
     "output_type": "stream",
     "text": [
      "obj_ID         1.237665e+18\n",
      "alpha          1.776291e+02\n",
      "delta          2.413530e+01\n",
      "u              2.198047e+01\n",
      "g              2.053139e+01\n",
      "r              1.964576e+01\n",
      "i              1.908485e+01\n",
      "z              1.866881e+01\n",
      "run_ID         4.481366e+03\n",
      "rerun_ID       3.010000e+02\n",
      "cam_col        3.511610e+00\n",
      "field_ID       1.861305e+02\n",
      "spec_obj_ID    5.783882e+18\n",
      "redshift       5.766608e-01\n",
      "plate          5.137010e+03\n",
      "MJD            5.558865e+04\n",
      "fiber_ID       4.493127e+02\n",
      "dtype: float64\n"
     ]
    }
   ],
   "source": [
    "#Finding the means of the characteristic columns\n",
    "\n",
    "means = df.mean(numeric_only=True)\n",
    "print(means)"
   ]
  },
  {
   "cell_type": "code",
   "execution_count": 219,
   "id": "9b78aea6",
   "metadata": {},
   "outputs": [
    {
     "name": "stdout",
     "output_type": "stream",
     "text": [
      "class\n",
      "GALAXY    59445\n",
      "STAR      21594\n",
      "QSO       18961\n",
      "dtype: int64\n"
     ]
    }
   ],
   "source": [
    "#Finding out how many individual observations occured for each stellar object\n",
    "\n",
    "print(df.value_counts('class'))"
   ]
  },
  {
   "cell_type": "markdown",
   "id": "e3b5cb4d",
   "metadata": {},
   "source": [
    "It's significant to note here that there are far more galaxy observations represented in this data set than stars or quasars"
   ]
  },
  {
   "cell_type": "code",
   "execution_count": 220,
   "id": "ce570e7f",
   "metadata": {},
   "outputs": [
    {
     "data": {
      "text/plain": [
       "obj_ID         1237645942904389888.0\n",
       "alpha                       0.005528\n",
       "delta                     -18.785328\n",
       "u                            -9999.0\n",
       "g                            -9999.0\n",
       "r                            9.82207\n",
       "i                           9.469903\n",
       "z                            -9999.0\n",
       "run_ID                           109\n",
       "rerun_ID                         301\n",
       "cam_col                            1\n",
       "field_ID                          11\n",
       "spec_obj_ID     299519089380976640.0\n",
       "class                         GALAXY\n",
       "redshift                   -0.009971\n",
       "plate                            266\n",
       "MJD                            51608\n",
       "fiber_ID                           1\n",
       "dtype: object"
      ]
     },
     "execution_count": 220,
     "metadata": {},
     "output_type": "execute_result"
    }
   ],
   "source": [
    "df.min()\n",
    "\n"
   ]
  },
  {
   "cell_type": "code",
   "execution_count": 221,
   "id": "df1932ec",
   "metadata": {},
   "outputs": [
    {
     "data": {
      "text/plain": [
       "obj_ID          1237680531356386304.0\n",
       "alpha                       359.99981\n",
       "delta                       83.000519\n",
       "u                            32.78139\n",
       "g                            31.60224\n",
       "r                            29.57186\n",
       "i                            32.14147\n",
       "z                            29.38374\n",
       "run_ID                           8162\n",
       "rerun_ID                          301\n",
       "cam_col                             6\n",
       "field_ID                          989\n",
       "spec_obj_ID    14126940609093851136.0\n",
       "class                            STAR\n",
       "redshift                     7.011245\n",
       "plate                           12547\n",
       "MJD                             58932\n",
       "fiber_ID                         1000\n",
       "dtype: object"
      ]
     },
     "execution_count": 221,
     "metadata": {},
     "output_type": "execute_result"
    }
   ],
   "source": [
    "df.max()"
   ]
  },
  {
   "cell_type": "code",
   "execution_count": 222,
   "id": "693cd18a",
   "metadata": {},
   "outputs": [
    {
     "name": "stdout",
     "output_type": "stream",
     "text": [
      "Observed galaxy with a redshift 0.634794 has a right ascension angle of 135.69\n"
     ]
    }
   ],
   "source": [
    "#defining and calling a function\n",
    "\n",
    "def f(Class, redshift, alpha):\n",
    "    print(f'{Class} with a redshift {redshift} has a right ascension angle of {alpha:.2f}')\n",
    "\n",
    "f('Observed galaxy', 0.634794, 135.689107)"
   ]
  },
  {
   "cell_type": "markdown",
   "id": "a87c2fe3",
   "metadata": {},
   "source": [
    "## Visualizing the Full Data Set\n",
    "\n",
    "Here is an observation of trends in the redshift of the stellar objects. Sweeping the entire 0-360 right ascension angles gives a full picture of the amount of stellar observations spread across redshifts.\n"
   ]
  },
  {
   "cell_type": "code",
   "execution_count": 223,
   "id": "da80c0a7",
   "metadata": {},
   "outputs": [
    {
     "data": {
      "text/plain": [
       "'alpha = Right Ascension angle (at J2000 epoch)'"
      ]
     },
     "execution_count": 223,
     "metadata": {},
     "output_type": "execute_result"
    }
   ],
   "source": [
    "data_key['alpha']"
   ]
  },
  {
   "cell_type": "code",
   "execution_count": 224,
   "id": "357bfd0d",
   "metadata": {},
   "outputs": [
    {
     "data": {
      "text/plain": [
       "'redshift = redshift value based on the increase in wavelength'"
      ]
     },
     "execution_count": 224,
     "metadata": {},
     "output_type": "execute_result"
    }
   ],
   "source": [
    "data_key['redshift']"
   ]
  },
  {
   "cell_type": "code",
   "execution_count": 225,
   "id": "146b39e8",
   "metadata": {},
   "outputs": [
    {
     "data": {
      "image/png": "[encoded data removed]",
      "text/plain": [
       "<Figure size 640x480 with 1 Axes>"
      ]
     },
     "metadata": {},
     "output_type": "display_data"
    }
   ],
   "source": [
    "#Plotting right ascension and redshift\n",
    "\n",
    "plt.scatter(x=df['alpha'],y=df['redshift'], c='g')\n",
    "plt.xlabel('Alpha')\n",
    "plt.ylabel('Redshift')\n",
    "plt.show()\n",
    "\n"
   ]
  },
  {
   "cell_type": "markdown",
   "id": "3cc3929a",
   "metadata": {},
   "source": [
    "The scatterplot shows the majority of stellar objects experiencing a redshift from 0-~3.5 for right ascension angles between 0-60, 110-265, and 310-360. There is a considerable dip in data points at angles 60-110 and 265-310, possibly due to an incomplete scan or set of observations, or obstruction of the observation. The next section will further analyze which stellar object is most represented in the upper limit of the redshift (3.5-7.0)  "
   ]
  },
  {
   "cell_type": "markdown",
   "id": "bf8b384a",
   "metadata": {},
   "source": [
    "## Discovering Which Object is Hogging All the Redshift"
   ]
  },
  {
   "cell_type": "code",
   "execution_count": 226,
   "id": "c0f816e6",
   "metadata": {},
   "outputs": [
    {
     "data": {
      "text/plain": [
       "'class = object class, (galaxy, star, or quasar)'"
      ]
     },
     "execution_count": 226,
     "metadata": {},
     "output_type": "execute_result"
    }
   ],
   "source": [
    "data_key['class']"
   ]
  },
  {
   "cell_type": "code",
   "execution_count": 227,
   "id": "07ee375d",
   "metadata": {},
   "outputs": [
    {
     "data": {
      "text/plain": [
       "'redshift = redshift value based on the increase in wavelength'"
      ]
     },
     "execution_count": 227,
     "metadata": {},
     "output_type": "execute_result"
    }
   ],
   "source": [
    "data_key['redshift']"
   ]
  },
  {
   "cell_type": "code",
   "execution_count": 228,
   "id": "fc6f152d",
   "metadata": {},
   "outputs": [
    {
     "data": {
      "image/png": "[encoded data removed]",
      "text/plain": [
       "<Figure size 640x480 with 1 Axes>"
      ]
     },
     "metadata": {},
     "output_type": "display_data"
    }
   ],
   "source": [
    "#Plotting class and redshift\n",
    "\n",
    "x=df['class']\n",
    "y=df['redshift']\n",
    "plt.scatter(x,y)\n",
    "plt.xlabel('Class')\n",
    "plt.ylabel('Redshift')\n",
    "plt.show()\n"
   ]
  },
  {
   "cell_type": "code",
   "execution_count": 229,
   "id": "4d451dc8",
   "metadata": {},
   "outputs": [
    {
     "data": {
      "image/png": "[encoded data removed]",
      "text/plain": [
       "<Figure size 640x480 with 1 Axes>"
      ]
     },
     "metadata": {},
     "output_type": "display_data"
    }
   ],
   "source": [
    "#plotting another way\n",
    "\n",
    "df.groupby(['class'], as_index = False).sum().plot(kind = 'bar', x = 'class', y = 'redshift', color = 'purple')\n",
    "plt.xlabel('Class')\n",
    "plt.ylabel('Redshift')\n",
    "plt.show()\n"
   ]
  },
  {
   "cell_type": "markdown",
   "id": "c2b8dcd3",
   "metadata": {},
   "source": [
    "The scatter plot in blue shows that the observations of redshift in the upper limit (3.5-7.0) are coming from quasars, while the bar graph confirms that quasars hold more of the redshift than galaxies or stars. Knowing that there are far fewer quasar observations in this set than galaxies or stars lends significance to these findings."
   ]
  },
  {
   "cell_type": "markdown",
   "id": "b9b3c946",
   "metadata": {},
   "source": [
    "## Looking at Ultraviolet Radiation Signitures"
   ]
  },
  {
   "cell_type": "code",
   "execution_count": 230,
   "id": "0e374441",
   "metadata": {},
   "outputs": [
    {
     "data": {
      "text/plain": [
       "'u = Ultraviolet filter in the photometric system'"
      ]
     },
     "execution_count": 230,
     "metadata": {},
     "output_type": "execute_result"
    }
   ],
   "source": [
    "data_key['u']"
   ]
  },
  {
   "cell_type": "code",
   "execution_count": 231,
   "id": "ab70cbaf",
   "metadata": {},
   "outputs": [
    {
     "data": {
      "image/png": "[encoded data removed]",
      "text/plain": [
       "<Figure size 640x480 with 1 Axes>"
      ]
     },
     "metadata": {},
     "output_type": "display_data"
    }
   ],
   "source": [
    "#Plotting class and total ultraviolet radiation\n",
    "\n",
    "df.groupby(['class'], as_index = False).sum().plot(kind = 'bar', x = 'class', y = 'u', color = 'turquoise')\n",
    "plt.xlabel('Class')\n",
    "plt.ylabel('Ultraviolet')\n",
    "plt.show()\n"
   ]
  },
  {
   "cell_type": "markdown",
   "id": "81647442",
   "metadata": {},
   "source": [
    "Galaxies are responsible for the majority of the total ultraviolet radiation collected, but that may simply be due to the fact that there are so many more galaxies observed than other objects. (I'll pin further analysis for a future project)"
   ]
  },
  {
   "cell_type": "markdown",
   "id": "58f0eff6",
   "metadata": {},
   "source": [
    "## Cleaning the data"
   ]
  },
  {
   "cell_type": "code",
   "execution_count": 232,
   "id": "4de09fa3",
   "metadata": {},
   "outputs": [
    {
     "data": {
      "text/html": [
       "<div>\n",
       "<style scoped>\n",
       "    .dataframe tbody tr th:only-of-type {\n",
       "        vertical-align: middle;\n",
       "    }\n",
       "\n",
       "    .dataframe tbody tr th {\n",
       "        vertical-align: top;\n",
       "    }\n",
       "\n",
       "    .dataframe thead th {\n",
       "        text-align: right;\n",
       "    }\n",
       "</style>\n",
       "<table border=\"1\" class=\"dataframe\">\n",
       "  <thead>\n",
       "    <tr style=\"text-align: right;\">\n",
       "      <th></th>\n",
       "      <th>obj_ID</th>\n",
       "      <th>alpha</th>\n",
       "      <th>delta</th>\n",
       "      <th>u</th>\n",
       "      <th>g</th>\n",
       "      <th>r</th>\n",
       "      <th>i</th>\n",
       "      <th>z</th>\n",
       "      <th>run_ID</th>\n",
       "      <th>rerun_ID</th>\n",
       "      <th>cam_col</th>\n",
       "      <th>field_ID</th>\n",
       "      <th>spec_obj_ID</th>\n",
       "      <th>class</th>\n",
       "      <th>redshift</th>\n",
       "      <th>plate</th>\n",
       "      <th>MJD</th>\n",
       "      <th>fiber_ID</th>\n",
       "    </tr>\n",
       "  </thead>\n",
       "  <tbody>\n",
       "    <tr>\n",
       "      <th>0</th>\n",
       "      <td>1.237661e+18</td>\n",
       "      <td>135.689107</td>\n",
       "      <td>32.494632</td>\n",
       "      <td>23.87882</td>\n",
       "      <td>22.27530</td>\n",
       "      <td>20.39501</td>\n",
       "      <td>19.16573</td>\n",
       "      <td>18.79371</td>\n",
       "      <td>3606</td>\n",
       "      <td>301</td>\n",
       "      <td>2</td>\n",
       "      <td>79</td>\n",
       "      <td>6.543777e+18</td>\n",
       "      <td>GALAXY</td>\n",
       "      <td>0.634794</td>\n",
       "      <td>5812</td>\n",
       "      <td>56354</td>\n",
       "      <td>171</td>\n",
       "    </tr>\n",
       "    <tr>\n",
       "      <th>1</th>\n",
       "      <td>1.237665e+18</td>\n",
       "      <td>144.826101</td>\n",
       "      <td>31.274185</td>\n",
       "      <td>24.77759</td>\n",
       "      <td>22.83188</td>\n",
       "      <td>22.58444</td>\n",
       "      <td>21.16812</td>\n",
       "      <td>21.61427</td>\n",
       "      <td>4518</td>\n",
       "      <td>301</td>\n",
       "      <td>5</td>\n",
       "      <td>119</td>\n",
       "      <td>1.176014e+19</td>\n",
       "      <td>GALAXY</td>\n",
       "      <td>0.779136</td>\n",
       "      <td>10445</td>\n",
       "      <td>58158</td>\n",
       "      <td>427</td>\n",
       "    </tr>\n",
       "    <tr>\n",
       "      <th>2</th>\n",
       "      <td>1.237661e+18</td>\n",
       "      <td>142.188790</td>\n",
       "      <td>35.582444</td>\n",
       "      <td>25.26307</td>\n",
       "      <td>22.66389</td>\n",
       "      <td>20.60976</td>\n",
       "      <td>19.34857</td>\n",
       "      <td>18.94827</td>\n",
       "      <td>3606</td>\n",
       "      <td>301</td>\n",
       "      <td>2</td>\n",
       "      <td>120</td>\n",
       "      <td>5.152200e+18</td>\n",
       "      <td>GALAXY</td>\n",
       "      <td>0.644195</td>\n",
       "      <td>4576</td>\n",
       "      <td>55592</td>\n",
       "      <td>299</td>\n",
       "    </tr>\n",
       "    <tr>\n",
       "      <th>3</th>\n",
       "      <td>1.237663e+18</td>\n",
       "      <td>338.741038</td>\n",
       "      <td>-0.402828</td>\n",
       "      <td>22.13682</td>\n",
       "      <td>23.77656</td>\n",
       "      <td>21.61162</td>\n",
       "      <td>20.50454</td>\n",
       "      <td>19.25010</td>\n",
       "      <td>4192</td>\n",
       "      <td>301</td>\n",
       "      <td>3</td>\n",
       "      <td>214</td>\n",
       "      <td>1.030107e+19</td>\n",
       "      <td>GALAXY</td>\n",
       "      <td>0.932346</td>\n",
       "      <td>9149</td>\n",
       "      <td>58039</td>\n",
       "      <td>775</td>\n",
       "    </tr>\n",
       "    <tr>\n",
       "      <th>4</th>\n",
       "      <td>1.237680e+18</td>\n",
       "      <td>345.282593</td>\n",
       "      <td>21.183866</td>\n",
       "      <td>19.43718</td>\n",
       "      <td>17.58028</td>\n",
       "      <td>16.49747</td>\n",
       "      <td>15.97711</td>\n",
       "      <td>15.54461</td>\n",
       "      <td>8102</td>\n",
       "      <td>301</td>\n",
       "      <td>3</td>\n",
       "      <td>137</td>\n",
       "      <td>6.891865e+18</td>\n",
       "      <td>GALAXY</td>\n",
       "      <td>0.116123</td>\n",
       "      <td>6121</td>\n",
       "      <td>56187</td>\n",
       "      <td>842</td>\n",
       "    </tr>\n",
       "    <tr>\n",
       "      <th>5</th>\n",
       "      <td>1.237680e+18</td>\n",
       "      <td>340.995121</td>\n",
       "      <td>20.589476</td>\n",
       "      <td>23.48827</td>\n",
       "      <td>23.33776</td>\n",
       "      <td>21.32195</td>\n",
       "      <td>20.25615</td>\n",
       "      <td>19.54544</td>\n",
       "      <td>8102</td>\n",
       "      <td>301</td>\n",
       "      <td>3</td>\n",
       "      <td>110</td>\n",
       "      <td>5.658977e+18</td>\n",
       "      <td>QSO</td>\n",
       "      <td>1.424659</td>\n",
       "      <td>5026</td>\n",
       "      <td>55855</td>\n",
       "      <td>741</td>\n",
       "    </tr>\n",
       "    <tr>\n",
       "      <th>6</th>\n",
       "      <td>1.237679e+18</td>\n",
       "      <td>23.234926</td>\n",
       "      <td>11.418188</td>\n",
       "      <td>21.46973</td>\n",
       "      <td>21.17624</td>\n",
       "      <td>20.92829</td>\n",
       "      <td>20.60826</td>\n",
       "      <td>20.42573</td>\n",
       "      <td>7773</td>\n",
       "      <td>301</td>\n",
       "      <td>2</td>\n",
       "      <td>462</td>\n",
       "      <td>1.246262e+19</td>\n",
       "      <td>QSO</td>\n",
       "      <td>0.586455</td>\n",
       "      <td>11069</td>\n",
       "      <td>58456</td>\n",
       "      <td>113</td>\n",
       "    </tr>\n",
       "    <tr>\n",
       "      <th>7</th>\n",
       "      <td>1.237679e+18</td>\n",
       "      <td>5.433176</td>\n",
       "      <td>12.065186</td>\n",
       "      <td>22.24979</td>\n",
       "      <td>22.02172</td>\n",
       "      <td>20.34126</td>\n",
       "      <td>19.48794</td>\n",
       "      <td>18.84999</td>\n",
       "      <td>7773</td>\n",
       "      <td>301</td>\n",
       "      <td>2</td>\n",
       "      <td>346</td>\n",
       "      <td>6.961443e+18</td>\n",
       "      <td>GALAXY</td>\n",
       "      <td>0.477009</td>\n",
       "      <td>6183</td>\n",
       "      <td>56210</td>\n",
       "      <td>15</td>\n",
       "    </tr>\n",
       "    <tr>\n",
       "      <th>8</th>\n",
       "      <td>1.237661e+18</td>\n",
       "      <td>200.290475</td>\n",
       "      <td>47.199402</td>\n",
       "      <td>24.40286</td>\n",
       "      <td>22.35669</td>\n",
       "      <td>20.61032</td>\n",
       "      <td>19.46490</td>\n",
       "      <td>18.95852</td>\n",
       "      <td>3716</td>\n",
       "      <td>301</td>\n",
       "      <td>5</td>\n",
       "      <td>108</td>\n",
       "      <td>7.459285e+18</td>\n",
       "      <td>GALAXY</td>\n",
       "      <td>0.660012</td>\n",
       "      <td>6625</td>\n",
       "      <td>56386</td>\n",
       "      <td>719</td>\n",
       "    </tr>\n",
       "    <tr>\n",
       "      <th>9</th>\n",
       "      <td>1.237671e+18</td>\n",
       "      <td>39.149691</td>\n",
       "      <td>28.102842</td>\n",
       "      <td>21.74669</td>\n",
       "      <td>20.03493</td>\n",
       "      <td>19.17553</td>\n",
       "      <td>18.81823</td>\n",
       "      <td>18.65422</td>\n",
       "      <td>5934</td>\n",
       "      <td>301</td>\n",
       "      <td>4</td>\n",
       "      <td>122</td>\n",
       "      <td>2.751763e+18</td>\n",
       "      <td>STAR</td>\n",
       "      <td>-0.000008</td>\n",
       "      <td>2444</td>\n",
       "      <td>54082</td>\n",
       "      <td>232</td>\n",
       "    </tr>\n",
       "  </tbody>\n",
       "</table>\n",
       "</div>"
      ],
      "text/plain": [
       "         obj_ID       alpha      delta         u         g         r  \\\n",
       "0  1.237661e+18  135.689107  32.494632  23.87882  22.27530  20.39501   \n",
       "1  1.237665e+18  144.826101  31.274185  24.77759  22.83188  22.58444   \n",
       "2  1.237661e+18  142.188790  35.582444  25.26307  22.66389  20.60976   \n",
       "3  1.237663e+18  338.741038  -0.402828  22.13682  23.77656  21.61162   \n",
       "4  1.237680e+18  345.282593  21.183866  19.43718  17.58028  16.49747   \n",
       "5  1.237680e+18  340.995121  20.589476  23.48827  23.33776  21.32195   \n",
       "6  1.237679e+18   23.234926  11.418188  21.46973  21.17624  20.92829   \n",
       "7  1.237679e+18    5.433176  12.065186  22.24979  22.02172  20.34126   \n",
       "8  1.237661e+18  200.290475  47.199402  24.40286  22.35669  20.61032   \n",
       "9  1.237671e+18   39.149691  28.102842  21.74669  20.03493  19.17553   \n",
       "\n",
       "          i         z  run_ID  rerun_ID  cam_col  field_ID   spec_obj_ID  \\\n",
       "0  19.16573  18.79371    3606       301        2        79  6.543777e+18   \n",
       "1  21.16812  21.61427    4518       301        5       119  1.176014e+19   \n",
       "2  19.34857  18.94827    3606       301        2       120  5.152200e+18   \n",
       "3  20.50454  19.25010    4192       301        3       214  1.030107e+19   \n",
       "4  15.97711  15.54461    8102       301        3       137  6.891865e+18   \n",
       "5  20.25615  19.54544    8102       301        3       110  5.658977e+18   \n",
       "6  20.60826  20.42573    7773       301        2       462  1.246262e+19   \n",
       "7  19.48794  18.84999    7773       301        2       346  6.961443e+18   \n",
       "8  19.46490  18.95852    3716       301        5       108  7.459285e+18   \n",
       "9  18.81823  18.65422    5934       301        4       122  2.751763e+18   \n",
       "\n",
       "    class  redshift  plate    MJD  fiber_ID  \n",
       "0  GALAXY  0.634794   5812  56354       171  \n",
       "1  GALAXY  0.779136  10445  58158       427  \n",
       "2  GALAXY  0.644195   4576  55592       299  \n",
       "3  GALAXY  0.932346   9149  58039       775  \n",
       "4  GALAXY  0.116123   6121  56187       842  \n",
       "5     QSO  1.424659   5026  55855       741  \n",
       "6     QSO  0.586455  11069  58456       113  \n",
       "7  GALAXY  0.477009   6183  56210        15  \n",
       "8  GALAXY  0.660012   6625  56386       719  \n",
       "9    STAR -0.000008   2444  54082       232  "
      ]
     },
     "execution_count": 232,
     "metadata": {},
     "output_type": "execute_result"
    }
   ],
   "source": [
    "df2 = pd.read_csv('star_classification_data_clean.csv')\n",
    "df2.head(10)"
   ]
  },
  {
   "cell_type": "code",
   "execution_count": 233,
   "id": "0bce6c95",
   "metadata": {},
   "outputs": [
    {
     "data": {
      "text/plain": [
       "100000"
      ]
     },
     "execution_count": 233,
     "metadata": {},
     "output_type": "execute_result"
    }
   ],
   "source": [
    "#Checking that the data set is complete\n",
    "\n",
    "len(df2)"
   ]
  },
  {
   "cell_type": "code",
   "execution_count": 234,
   "id": "e106d461",
   "metadata": {},
   "outputs": [],
   "source": [
    "#Removing unwanted columns\n",
    "\n",
    "df2.drop(['run_ID', 'rerun_ID', 'obj_ID', 'spec_obj_ID', 'plate', 'MJD', 'fiber_ID', 'cam_col'], axis=1, inplace=True)"
   ]
  },
  {
   "cell_type": "code",
   "execution_count": 235,
   "id": "694b86ba",
   "metadata": {},
   "outputs": [
    {
     "data": {
      "text/html": [
       "<div>\n",
       "<style scoped>\n",
       "    .dataframe tbody tr th:only-of-type {\n",
       "        vertical-align: middle;\n",
       "    }\n",
       "\n",
       "    .dataframe tbody tr th {\n",
       "        vertical-align: top;\n",
       "    }\n",
       "\n",
       "    .dataframe thead th {\n",
       "        text-align: right;\n",
       "    }\n",
       "</style>\n",
       "<table border=\"1\" class=\"dataframe\">\n",
       "  <thead>\n",
       "    <tr style=\"text-align: right;\">\n",
       "      <th></th>\n",
       "      <th>alpha</th>\n",
       "      <th>delta</th>\n",
       "      <th>u</th>\n",
       "      <th>g</th>\n",
       "      <th>r</th>\n",
       "      <th>i</th>\n",
       "      <th>z</th>\n",
       "      <th>field_ID</th>\n",
       "      <th>class</th>\n",
       "      <th>redshift</th>\n",
       "    </tr>\n",
       "  </thead>\n",
       "  <tbody>\n",
       "    <tr>\n",
       "      <th>0</th>\n",
       "      <td>135.689107</td>\n",
       "      <td>32.494632</td>\n",
       "      <td>23.87882</td>\n",
       "      <td>22.27530</td>\n",
       "      <td>20.39501</td>\n",
       "      <td>19.16573</td>\n",
       "      <td>18.79371</td>\n",
       "      <td>79</td>\n",
       "      <td>GALAXY</td>\n",
       "      <td>0.634794</td>\n",
       "    </tr>\n",
       "    <tr>\n",
       "      <th>1</th>\n",
       "      <td>144.826101</td>\n",
       "      <td>31.274185</td>\n",
       "      <td>24.77759</td>\n",
       "      <td>22.83188</td>\n",
       "      <td>22.58444</td>\n",
       "      <td>21.16812</td>\n",
       "      <td>21.61427</td>\n",
       "      <td>119</td>\n",
       "      <td>GALAXY</td>\n",
       "      <td>0.779136</td>\n",
       "    </tr>\n",
       "    <tr>\n",
       "      <th>2</th>\n",
       "      <td>142.188790</td>\n",
       "      <td>35.582444</td>\n",
       "      <td>25.26307</td>\n",
       "      <td>22.66389</td>\n",
       "      <td>20.60976</td>\n",
       "      <td>19.34857</td>\n",
       "      <td>18.94827</td>\n",
       "      <td>120</td>\n",
       "      <td>GALAXY</td>\n",
       "      <td>0.644195</td>\n",
       "    </tr>\n",
       "    <tr>\n",
       "      <th>3</th>\n",
       "      <td>338.741038</td>\n",
       "      <td>-0.402828</td>\n",
       "      <td>22.13682</td>\n",
       "      <td>23.77656</td>\n",
       "      <td>21.61162</td>\n",
       "      <td>20.50454</td>\n",
       "      <td>19.25010</td>\n",
       "      <td>214</td>\n",
       "      <td>GALAXY</td>\n",
       "      <td>0.932346</td>\n",
       "    </tr>\n",
       "    <tr>\n",
       "      <th>4</th>\n",
       "      <td>345.282593</td>\n",
       "      <td>21.183866</td>\n",
       "      <td>19.43718</td>\n",
       "      <td>17.58028</td>\n",
       "      <td>16.49747</td>\n",
       "      <td>15.97711</td>\n",
       "      <td>15.54461</td>\n",
       "      <td>137</td>\n",
       "      <td>GALAXY</td>\n",
       "      <td>0.116123</td>\n",
       "    </tr>\n",
       "    <tr>\n",
       "      <th>5</th>\n",
       "      <td>340.995121</td>\n",
       "      <td>20.589476</td>\n",
       "      <td>23.48827</td>\n",
       "      <td>23.33776</td>\n",
       "      <td>21.32195</td>\n",
       "      <td>20.25615</td>\n",
       "      <td>19.54544</td>\n",
       "      <td>110</td>\n",
       "      <td>QSO</td>\n",
       "      <td>1.424659</td>\n",
       "    </tr>\n",
       "    <tr>\n",
       "      <th>6</th>\n",
       "      <td>23.234926</td>\n",
       "      <td>11.418188</td>\n",
       "      <td>21.46973</td>\n",
       "      <td>21.17624</td>\n",
       "      <td>20.92829</td>\n",
       "      <td>20.60826</td>\n",
       "      <td>20.42573</td>\n",
       "      <td>462</td>\n",
       "      <td>QSO</td>\n",
       "      <td>0.586455</td>\n",
       "    </tr>\n",
       "    <tr>\n",
       "      <th>7</th>\n",
       "      <td>5.433176</td>\n",
       "      <td>12.065186</td>\n",
       "      <td>22.24979</td>\n",
       "      <td>22.02172</td>\n",
       "      <td>20.34126</td>\n",
       "      <td>19.48794</td>\n",
       "      <td>18.84999</td>\n",
       "      <td>346</td>\n",
       "      <td>GALAXY</td>\n",
       "      <td>0.477009</td>\n",
       "    </tr>\n",
       "    <tr>\n",
       "      <th>8</th>\n",
       "      <td>200.290475</td>\n",
       "      <td>47.199402</td>\n",
       "      <td>24.40286</td>\n",
       "      <td>22.35669</td>\n",
       "      <td>20.61032</td>\n",
       "      <td>19.46490</td>\n",
       "      <td>18.95852</td>\n",
       "      <td>108</td>\n",
       "      <td>GALAXY</td>\n",
       "      <td>0.660012</td>\n",
       "    </tr>\n",
       "    <tr>\n",
       "      <th>9</th>\n",
       "      <td>39.149691</td>\n",
       "      <td>28.102842</td>\n",
       "      <td>21.74669</td>\n",
       "      <td>20.03493</td>\n",
       "      <td>19.17553</td>\n",
       "      <td>18.81823</td>\n",
       "      <td>18.65422</td>\n",
       "      <td>122</td>\n",
       "      <td>STAR</td>\n",
       "      <td>-0.000008</td>\n",
       "    </tr>\n",
       "  </tbody>\n",
       "</table>\n",
       "</div>"
      ],
      "text/plain": [
       "        alpha      delta         u         g         r         i         z  \\\n",
       "0  135.689107  32.494632  23.87882  22.27530  20.39501  19.16573  18.79371   \n",
       "1  144.826101  31.274185  24.77759  22.83188  22.58444  21.16812  21.61427   \n",
       "2  142.188790  35.582444  25.26307  22.66389  20.60976  19.34857  18.94827   \n",
       "3  338.741038  -0.402828  22.13682  23.77656  21.61162  20.50454  19.25010   \n",
       "4  345.282593  21.183866  19.43718  17.58028  16.49747  15.97711  15.54461   \n",
       "5  340.995121  20.589476  23.48827  23.33776  21.32195  20.25615  19.54544   \n",
       "6   23.234926  11.418188  21.46973  21.17624  20.92829  20.60826  20.42573   \n",
       "7    5.433176  12.065186  22.24979  22.02172  20.34126  19.48794  18.84999   \n",
       "8  200.290475  47.199402  24.40286  22.35669  20.61032  19.46490  18.95852   \n",
       "9   39.149691  28.102842  21.74669  20.03493  19.17553  18.81823  18.65422   \n",
       "\n",
       "   field_ID   class  redshift  \n",
       "0        79  GALAXY  0.634794  \n",
       "1       119  GALAXY  0.779136  \n",
       "2       120  GALAXY  0.644195  \n",
       "3       214  GALAXY  0.932346  \n",
       "4       137  GALAXY  0.116123  \n",
       "5       110     QSO  1.424659  \n",
       "6       462     QSO  0.586455  \n",
       "7       346  GALAXY  0.477009  \n",
       "8       108  GALAXY  0.660012  \n",
       "9       122    STAR -0.000008  "
      ]
     },
     "execution_count": 235,
     "metadata": {},
     "output_type": "execute_result"
    }
   ],
   "source": [
    "df2.head(10)"
   ]
  },
  {
   "cell_type": "code",
   "execution_count": 236,
   "id": "9c155807",
   "metadata": {},
   "outputs": [
    {
     "data": {
      "text/html": [
       "<div>\n",
       "<style scoped>\n",
       "    .dataframe tbody tr th:only-of-type {\n",
       "        vertical-align: middle;\n",
       "    }\n",
       "\n",
       "    .dataframe tbody tr th {\n",
       "        vertical-align: top;\n",
       "    }\n",
       "\n",
       "    .dataframe thead th {\n",
       "        text-align: right;\n",
       "    }\n",
       "</style>\n",
       "<table border=\"1\" class=\"dataframe\">\n",
       "  <thead>\n",
       "    <tr style=\"text-align: right;\">\n",
       "      <th></th>\n",
       "      <th>alpha</th>\n",
       "      <th>delta</th>\n",
       "      <th>u</th>\n",
       "      <th>g</th>\n",
       "      <th>r</th>\n",
       "      <th>i</th>\n",
       "      <th>z</th>\n",
       "      <th>field_ID</th>\n",
       "      <th>class</th>\n",
       "      <th>redshift</th>\n",
       "    </tr>\n",
       "  </thead>\n",
       "  <tbody>\n",
       "    <tr>\n",
       "      <th>5</th>\n",
       "      <td>340.995121</td>\n",
       "      <td>20.589476</td>\n",
       "      <td>23.48827</td>\n",
       "      <td>23.33776</td>\n",
       "      <td>21.32195</td>\n",
       "      <td>20.25615</td>\n",
       "      <td>19.54544</td>\n",
       "      <td>110</td>\n",
       "      <td>QSO</td>\n",
       "      <td>1.424659</td>\n",
       "    </tr>\n",
       "    <tr>\n",
       "      <th>6</th>\n",
       "      <td>23.234926</td>\n",
       "      <td>11.418188</td>\n",
       "      <td>21.46973</td>\n",
       "      <td>21.17624</td>\n",
       "      <td>20.92829</td>\n",
       "      <td>20.60826</td>\n",
       "      <td>20.42573</td>\n",
       "      <td>462</td>\n",
       "      <td>QSO</td>\n",
       "      <td>0.586455</td>\n",
       "    </tr>\n",
       "    <tr>\n",
       "      <th>17</th>\n",
       "      <td>1.494389</td>\n",
       "      <td>3.291746</td>\n",
       "      <td>20.38562</td>\n",
       "      <td>20.40514</td>\n",
       "      <td>20.29996</td>\n",
       "      <td>20.05918</td>\n",
       "      <td>19.89044</td>\n",
       "      <td>339</td>\n",
       "      <td>QSO</td>\n",
       "      <td>2.031528</td>\n",
       "    </tr>\n",
       "    <tr>\n",
       "      <th>23</th>\n",
       "      <td>145.883006</td>\n",
       "      <td>47.300484</td>\n",
       "      <td>21.73992</td>\n",
       "      <td>21.53095</td>\n",
       "      <td>21.26763</td>\n",
       "      <td>21.36257</td>\n",
       "      <td>21.15861</td>\n",
       "      <td>33</td>\n",
       "      <td>QSO</td>\n",
       "      <td>2.075680</td>\n",
       "    </tr>\n",
       "    <tr>\n",
       "      <th>33</th>\n",
       "      <td>20.052556</td>\n",
       "      <td>11.497881</td>\n",
       "      <td>21.89214</td>\n",
       "      <td>21.35124</td>\n",
       "      <td>21.18755</td>\n",
       "      <td>20.84300</td>\n",
       "      <td>20.76580</td>\n",
       "      <td>441</td>\n",
       "      <td>QSO</td>\n",
       "      <td>1.528308</td>\n",
       "    </tr>\n",
       "    <tr>\n",
       "      <th>47</th>\n",
       "      <td>228.447728</td>\n",
       "      <td>12.745032</td>\n",
       "      <td>22.36261</td>\n",
       "      <td>21.71060</td>\n",
       "      <td>21.59630</td>\n",
       "      <td>21.60179</td>\n",
       "      <td>21.12727</td>\n",
       "      <td>125</td>\n",
       "      <td>QSO</td>\n",
       "      <td>2.689002</td>\n",
       "    </tr>\n",
       "    <tr>\n",
       "      <th>48</th>\n",
       "      <td>345.221147</td>\n",
       "      <td>2.593462</td>\n",
       "      <td>21.90143</td>\n",
       "      <td>21.79169</td>\n",
       "      <td>21.44344</td>\n",
       "      <td>21.25545</td>\n",
       "      <td>21.07686</td>\n",
       "      <td>231</td>\n",
       "      <td>QSO</td>\n",
       "      <td>1.289637</td>\n",
       "    </tr>\n",
       "    <tr>\n",
       "      <th>51</th>\n",
       "      <td>168.726601</td>\n",
       "      <td>27.680925</td>\n",
       "      <td>21.65936</td>\n",
       "      <td>21.73216</td>\n",
       "      <td>21.61713</td>\n",
       "      <td>21.60229</td>\n",
       "      <td>21.24192</td>\n",
       "      <td>385</td>\n",
       "      <td>QSO</td>\n",
       "      <td>1.007728</td>\n",
       "    </tr>\n",
       "    <tr>\n",
       "      <th>71</th>\n",
       "      <td>178.504616</td>\n",
       "      <td>54.379157</td>\n",
       "      <td>21.77434</td>\n",
       "      <td>21.65529</td>\n",
       "      <td>21.77547</td>\n",
       "      <td>21.72382</td>\n",
       "      <td>21.66425</td>\n",
       "      <td>177</td>\n",
       "      <td>QSO</td>\n",
       "      <td>1.939080</td>\n",
       "    </tr>\n",
       "    <tr>\n",
       "      <th>72</th>\n",
       "      <td>144.742439</td>\n",
       "      <td>46.967191</td>\n",
       "      <td>20.87676</td>\n",
       "      <td>20.61914</td>\n",
       "      <td>20.55744</td>\n",
       "      <td>20.54716</td>\n",
       "      <td>20.15146</td>\n",
       "      <td>28</td>\n",
       "      <td>QSO</td>\n",
       "      <td>1.040196</td>\n",
       "    </tr>\n",
       "  </tbody>\n",
       "</table>\n",
       "</div>"
      ],
      "text/plain": [
       "         alpha      delta         u         g         r         i         z  \\\n",
       "5   340.995121  20.589476  23.48827  23.33776  21.32195  20.25615  19.54544   \n",
       "6    23.234926  11.418188  21.46973  21.17624  20.92829  20.60826  20.42573   \n",
       "17    1.494389   3.291746  20.38562  20.40514  20.29996  20.05918  19.89044   \n",
       "23  145.883006  47.300484  21.73992  21.53095  21.26763  21.36257  21.15861   \n",
       "33   20.052556  11.497881  21.89214  21.35124  21.18755  20.84300  20.76580   \n",
       "47  228.447728  12.745032  22.36261  21.71060  21.59630  21.60179  21.12727   \n",
       "48  345.221147   2.593462  21.90143  21.79169  21.44344  21.25545  21.07686   \n",
       "51  168.726601  27.680925  21.65936  21.73216  21.61713  21.60229  21.24192   \n",
       "71  178.504616  54.379157  21.77434  21.65529  21.77547  21.72382  21.66425   \n",
       "72  144.742439  46.967191  20.87676  20.61914  20.55744  20.54716  20.15146   \n",
       "\n",
       "    field_ID class  redshift  \n",
       "5        110   QSO  1.424659  \n",
       "6        462   QSO  0.586455  \n",
       "17       339   QSO  2.031528  \n",
       "23        33   QSO  2.075680  \n",
       "33       441   QSO  1.528308  \n",
       "47       125   QSO  2.689002  \n",
       "48       231   QSO  1.289637  \n",
       "51       385   QSO  1.007728  \n",
       "71       177   QSO  1.939080  \n",
       "72        28   QSO  1.040196  "
      ]
     },
     "execution_count": 236,
     "metadata": {},
     "output_type": "execute_result"
    }
   ],
   "source": [
    "#dropping galaxies and stars from the set\n",
    "\n",
    "df2.drop(df2.loc[df2['class']==str('GALAXY')].index, inplace=True)    \n",
    "df2.drop(df2.loc[df2['class']==str('STAR')].index, inplace=True)\n",
    "\n",
    "\n",
    "df2.head(10)"
   ]
  },
  {
   "cell_type": "markdown",
   "id": "42d3d6cc",
   "metadata": {},
   "source": [
    "The length of the set is now 18961 which agrees with the count for quasars calculated in previous sections."
   ]
  },
  {
   "cell_type": "code",
   "execution_count": 237,
   "id": "25160c11",
   "metadata": {},
   "outputs": [
    {
     "data": {
      "text/plain": [
       "18961"
      ]
     },
     "execution_count": 237,
     "metadata": {},
     "output_type": "execute_result"
    }
   ],
   "source": [
    "len(df2)"
   ]
  },
  {
   "cell_type": "markdown",
   "id": "3c0b64d8",
   "metadata": {},
   "source": [
    "## Analyzing and Visualizing the clean data"
   ]
  },
  {
   "cell_type": "markdown",
   "id": "c2bf34b9",
   "metadata": {},
   "source": [
    "Now the data set contains only quasars. Plotting redshift across all right ascension angles should give a slightly different result than in the previous plots"
   ]
  },
  {
   "cell_type": "code",
   "execution_count": 238,
   "id": "803ef28e",
   "metadata": {},
   "outputs": [
    {
     "data": {
      "text/plain": [
       "'alpha = Right Ascension angle (at J2000 epoch)'"
      ]
     },
     "execution_count": 238,
     "metadata": {},
     "output_type": "execute_result"
    }
   ],
   "source": [
    "data_key['alpha']"
   ]
  },
  {
   "cell_type": "code",
   "execution_count": 239,
   "id": "82b0bf59",
   "metadata": {},
   "outputs": [
    {
     "data": {
      "text/plain": [
       "'redshift = redshift value based on the increase in wavelength'"
      ]
     },
     "execution_count": 239,
     "metadata": {},
     "output_type": "execute_result"
    }
   ],
   "source": [
    "data_key['redshift']"
   ]
  },
  {
   "cell_type": "code",
   "execution_count": 240,
   "id": "8e01984a",
   "metadata": {},
   "outputs": [
    {
     "data": {
      "image/png": "[encoded data removed]",
      "text/plain": [
       "<Figure size 640x480 with 1 Axes>"
      ]
     },
     "metadata": {},
     "output_type": "display_data"
    }
   ],
   "source": [
    "#Plotting alpha and redshift for only quasar observations\n",
    "\n",
    "x=df2['alpha']\n",
    "y=df2['redshift']\n",
    "plt.scatter(x,y, c='orange')\n",
    "plt.xlabel('Alpha')\n",
    "plt.ylabel('Redshift')\n",
    "plt.show()\n"
   ]
  },
  {
   "cell_type": "markdown",
   "id": "c532ca7d",
   "metadata": {},
   "source": [
    "There is still a clustering of redshift observations in the lower limit and a scattering of points in the upper limit. This plot is similar to the scatter plot obtained previously, however there is a significant lack of redshift observations in the lower limit near 0 observed at the angles 60-110 and 265-310. Looking at the min and max redshift of quasars below:"
   ]
  },
  {
   "cell_type": "code",
   "execution_count": 241,
   "id": "fc914130",
   "metadata": {},
   "outputs": [
    {
     "data": {
      "text/plain": [
       "obj_ID         1237645942904389888.0\n",
       "alpha                       0.005528\n",
       "delta                     -18.785328\n",
       "u                            -9999.0\n",
       "g                            -9999.0\n",
       "r                            9.82207\n",
       "i                           9.469903\n",
       "z                            -9999.0\n",
       "run_ID                           109\n",
       "rerun_ID                         301\n",
       "cam_col                            1\n",
       "field_ID                          11\n",
       "spec_obj_ID     299519089380976640.0\n",
       "class                         GALAXY\n",
       "redshift                   -0.009971\n",
       "plate                            266\n",
       "MJD                            51608\n",
       "fiber_ID                           1\n",
       "dtype: object"
      ]
     },
     "execution_count": 241,
     "metadata": {},
     "output_type": "execute_result"
    }
   ],
   "source": [
    "df.min()"
   ]
  },
  {
   "cell_type": "code",
   "execution_count": 242,
   "id": "77ae400b",
   "metadata": {},
   "outputs": [
    {
     "data": {
      "text/plain": [
       "obj_ID          1237680531356386304.0\n",
       "alpha                       359.99981\n",
       "delta                       83.000519\n",
       "u                            32.78139\n",
       "g                            31.60224\n",
       "r                            29.57186\n",
       "i                            32.14147\n",
       "z                            29.38374\n",
       "run_ID                           8162\n",
       "rerun_ID                          301\n",
       "cam_col                             6\n",
       "field_ID                          989\n",
       "spec_obj_ID    14126940609093851136.0\n",
       "class                            STAR\n",
       "redshift                     7.011245\n",
       "plate                           12547\n",
       "MJD                             58932\n",
       "fiber_ID                         1000\n",
       "dtype: object"
      ]
     },
     "execution_count": 242,
     "metadata": {},
     "output_type": "execute_result"
    }
   ],
   "source": [
    "df.max()"
   ]
  },
  {
   "cell_type": "markdown",
   "id": "41df0340",
   "metadata": {},
   "source": [
    "There is a very similar range for redshift for just quasars as for the entire data set."
   ]
  },
  {
   "cell_type": "code",
   "execution_count": 243,
   "id": "d2646444",
   "metadata": {},
   "outputs": [
    {
     "data": {
      "text/plain": [
       "'delta = Declination angle (at J2000 epoch)'"
      ]
     },
     "execution_count": 243,
     "metadata": {},
     "output_type": "execute_result"
    }
   ],
   "source": [
    "data_key['delta']"
   ]
  },
  {
   "cell_type": "code",
   "execution_count": 244,
   "id": "c0fa9490",
   "metadata": {},
   "outputs": [
    {
     "data": {
      "text/plain": [
       "'redshift = redshift value based on the increase in wavelength'"
      ]
     },
     "execution_count": 244,
     "metadata": {},
     "output_type": "execute_result"
    }
   ],
   "source": [
    "data_key['redshift']"
   ]
  },
  {
   "cell_type": "code",
   "execution_count": 245,
   "id": "0b685c4f",
   "metadata": {},
   "outputs": [
    {
     "data": {
      "image/png": "[encoded data removed]",
      "text/plain": [
       "<Figure size 640x480 with 1 Axes>"
      ]
     },
     "metadata": {},
     "output_type": "display_data"
    }
   ],
   "source": [
    "#Plotting delta and redshift for only quasar observations\n",
    "\n",
    "x=df2['delta']\n",
    "y=df2['redshift']\n",
    "plt.scatter(x,y, c='magenta')\n",
    "plt.xlabel('Delta')\n",
    "plt.ylabel('Redshift')\n",
    "plt.show()"
   ]
  },
  {
   "cell_type": "code",
   "execution_count": 246,
   "id": "bd8ef335",
   "metadata": {},
   "outputs": [
    {
     "data": {
      "image/png": "[encoded data removed]",
      "text/plain": [
       "<Figure size 640x480 with 1 Axes>"
      ]
     },
     "metadata": {},
     "output_type": "display_data"
    }
   ],
   "source": [
    "x=df2['alpha']\n",
    "y=df2['u']\n",
    "plt.scatter(x,y, c='green')\n",
    "plt.xlabel('Right Ascension')\n",
    "plt.ylabel('Ultraviolet')\n",
    "plt.show()"
   ]
  }
 ],
 "metadata": {
  "kernelspec": {
   "display_name": "Python 3 (ipykernel)",
   "language": "python",
   "name": "python3"
  },
  "language_info": {
   "codemirror_mode": {
    "name": "ipython",
    "version": 3
   },
   "file_extension": ".py",
   "mimetype": "text/x-python",
   "name": "python",
   "nbconvert_exporter": "python",
   "pygments_lexer": "ipython3",
   "version": "3.11.2"
  }
 },
 "nbformat": 4,
 "nbformat_minor": 5
}
